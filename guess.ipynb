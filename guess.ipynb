{
 "cells": [
  {
   "cell_type": "code",
   "execution_count": null,
   "metadata": {},
   "outputs": [],
   "source": [
    "import random\n",
    "\n",
    "guess = int(input(\"Guess a number between 1 and 10: \"))\n",
    "\n",
    "secret = random.randint(1,10)\n",
    "\n",
    "if guess > secret:\n",
    "    print(\"Guess to high\")\n",
    "elif guess < secret:\n",
    "    print(\"Guess too low\")\n",
    "else:\n",
    "    print(\"Just right, you won nothing. Thanks for playing!\")"
   ]
  }
 ],
 "metadata": {
  "kernelspec": {
   "display_name": "Python 3.11.0 64-bit",
   "language": "python",
   "name": "python3"
  },
  "language_info": {
   "name": "python",
   "version": "3.11.0"
  },
  "orig_nbformat": 4,
  "vscode": {
   "interpreter": {
    "hash": "83d9dbc64e29d41c50624375b455d24fdefe9aaaa317cb56df0869fc5a67ed2a"
   }
  }
 },
 "nbformat": 4,
 "nbformat_minor": 2
}
