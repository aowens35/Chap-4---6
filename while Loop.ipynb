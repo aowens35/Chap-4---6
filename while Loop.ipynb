{
 "cells": [
  {
   "cell_type": "code",
   "execution_count": null,
   "metadata": {},
   "outputs": [],
   "source": [
    "count = 0\n",
    "num = 1\n",
    "\n",
    "while num !=0:\n",
    "    guess_me = 7\n",
    "\n",
    "    if guess_me < num:\n",
    "        print(\"Too Low\")\n",
    "    if guess_me > num:\n",
    "        print(\"Oops!\")\n",
    "        break\n",
    "    elif guess_me == num:\n",
    "        print(\"Found It!\")\n",
    "        break\n",
    "    count += 1\n"
   ]
  }
 ],
 "metadata": {
  "kernelspec": {
   "display_name": "Python 3.11.0 64-bit",
   "language": "python",
   "name": "python3"
  },
  "language_info": {
   "name": "python",
   "version": "3.11.0"
  },
  "orig_nbformat": 4,
  "vscode": {
   "interpreter": {
    "hash": "83d9dbc64e29d41c50624375b455d24fdefe9aaaa317cb56df0869fc5a67ed2a"
   }
  }
 },
 "nbformat": 4,
 "nbformat_minor": 2
}
