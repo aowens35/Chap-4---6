{
 "cells": [
  {
   "cell_type": "code",
   "execution_count": null,
   "metadata": {},
   "outputs": [],
   "source": [
    "for num in range(10):\n",
    "    guess_me = 5\n",
    "\n",
    "    if guess_me > num:\n",
    "        print(\"Too Low\")\n",
    "    if guess_me < num:\n",
    "        print(\"Oops!\")\n",
    "        print(num)\n",
    "        break\n",
    "    elif guess_me == num:\n",
    "        print(\"Found It!\")\n",
    "        print(num)\n",
    "        break\n",
    "    "
   ]
  }
 ],
 "metadata": {
  "language_info": {
   "name": "python"
  },
  "orig_nbformat": 4
 },
 "nbformat": 4,
 "nbformat_minor": 2
}
