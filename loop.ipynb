{
 "cells": [
  {
   "cell_type": "code",
   "execution_count": null,
   "metadata": {},
   "outputs": [],
   "source": [
    "num = (3,2,1,0)\n",
    "\n",
    "for i in num:\n",
    "    print(i)\n"
   ]
  }
 ],
 "metadata": {
  "kernelspec": {
   "display_name": "Python 3.11.0 64-bit",
   "language": "python",
   "name": "python3"
  },
  "language_info": {
   "name": "python",
   "version": "3.11.0"
  },
  "orig_nbformat": 4,
  "vscode": {
   "interpreter": {
    "hash": "83d9dbc64e29d41c50624375b455d24fdefe9aaaa317cb56df0869fc5a67ed2a"
   }
  }
 },
 "nbformat": 4,
 "nbformat_minor": 2
}
